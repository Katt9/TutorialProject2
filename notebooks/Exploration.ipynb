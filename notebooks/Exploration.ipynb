{
 "cells": [
  {
   "cell_type": "code",
   "execution_count": 1,
   "metadata": {
    "pycharm": {
     "is_executing": false
    }
   },
   "outputs": [],
   "source": [
    "import pandas as pd\n",
    "from sqlalchemy import create_engine"
   ]
  },
  {
   "cell_type": "code",
   "execution_count": 3,
   "metadata": {
    "pycharm": {
     "is_executing": false
    }
   },
   "outputs": [
    {
     "data": {
      "text/html": [
       "<div>\n",
       "<style scoped>\n",
       "    .dataframe tbody tr th:only-of-type {\n",
       "        vertical-align: middle;\n",
       "    }\n",
       "\n",
       "    .dataframe tbody tr th {\n",
       "        vertical-align: top;\n",
       "    }\n",
       "\n",
       "    .dataframe thead th {\n",
       "        text-align: right;\n",
       "    }\n",
       "</style>\n",
       "<table border=\"1\" class=\"dataframe\">\n",
       "  <thead>\n",
       "    <tr style=\"text-align: right;\">\n",
       "      <th></th>\n",
       "      <th>state</th>\n",
       "      <th>naics</th>\n",
       "      <th>entrsize</th>\n",
       "      <th>firm</th>\n",
       "      <th>estb</th>\n",
       "      <th>empl</th>\n",
       "      <th>empfl_r</th>\n",
       "      <th>emplf_n</th>\n",
       "      <th>payr</th>\n",
       "      <th>payrfl_n</th>\n",
       "      <th>statedscr</th>\n",
       "      <th>naicsdscr</th>\n",
       "      <th>entrsizedscr</th>\n",
       "    </tr>\n",
       "  </thead>\n",
       "  <tbody>\n",
       "    <tr>\n",
       "      <td>0</td>\n",
       "      <td>00</td>\n",
       "      <td>--</td>\n",
       "      <td>01</td>\n",
       "      <td>5954684</td>\n",
       "      <td>7757807</td>\n",
       "      <td>126752238</td>\n",
       "      <td></td>\n",
       "      <td>G</td>\n",
       "      <td>2140174759</td>\n",
       "      <td>G</td>\n",
       "      <td>United States</td>\n",
       "      <td>Total</td>\n",
       "      <td>01:  Total</td>\n",
       "    </tr>\n",
       "    <tr>\n",
       "      <td>1</td>\n",
       "      <td>00</td>\n",
       "      <td>--</td>\n",
       "      <td>02</td>\n",
       "      <td>3665182</td>\n",
       "      <td>3671901</td>\n",
       "      <td>5923452</td>\n",
       "      <td></td>\n",
       "      <td>G</td>\n",
       "      <td>268039737</td>\n",
       "      <td>G</td>\n",
       "      <td>United States</td>\n",
       "      <td>Total</td>\n",
       "      <td>02:  0-4</td>\n",
       "    </tr>\n",
       "    <tr>\n",
       "      <td>2</td>\n",
       "      <td>00</td>\n",
       "      <td>--</td>\n",
       "      <td>03</td>\n",
       "      <td>1013878</td>\n",
       "      <td>1025690</td>\n",
       "      <td>6681968</td>\n",
       "      <td></td>\n",
       "      <td>G</td>\n",
       "      <td>248985263</td>\n",
       "      <td>G</td>\n",
       "      <td>United States</td>\n",
       "      <td>Total</td>\n",
       "      <td>03:  5-9</td>\n",
       "    </tr>\n",
       "    <tr>\n",
       "      <td>3</td>\n",
       "      <td>00</td>\n",
       "      <td>--</td>\n",
       "      <td>04</td>\n",
       "      <td>626900</td>\n",
       "      <td>657781</td>\n",
       "      <td>8432521</td>\n",
       "      <td></td>\n",
       "      <td>G</td>\n",
       "      <td>329388425</td>\n",
       "      <td>G</td>\n",
       "      <td>United States</td>\n",
       "      <td>Total</td>\n",
       "      <td>04:  10-19</td>\n",
       "    </tr>\n",
       "    <tr>\n",
       "      <td>4</td>\n",
       "      <td>00</td>\n",
       "      <td>--</td>\n",
       "      <td>05</td>\n",
       "      <td>5305960</td>\n",
       "      <td>5355372</td>\n",
       "      <td>21037941</td>\n",
       "      <td></td>\n",
       "      <td>G</td>\n",
       "      <td>846413425</td>\n",
       "      <td>G</td>\n",
       "      <td>United States</td>\n",
       "      <td>Total</td>\n",
       "      <td>05:  &lt;20</td>\n",
       "    </tr>\n",
       "    <tr>\n",
       "      <td>...</td>\n",
       "      <td>...</td>\n",
       "      <td>...</td>\n",
       "      <td>...</td>\n",
       "      <td>...</td>\n",
       "      <td>...</td>\n",
       "      <td>...</td>\n",
       "      <td>...</td>\n",
       "      <td>...</td>\n",
       "      <td>...</td>\n",
       "      <td>...</td>\n",
       "      <td>...</td>\n",
       "      <td>...</td>\n",
       "      <td>...</td>\n",
       "    </tr>\n",
       "    <tr>\n",
       "      <td>727993</td>\n",
       "      <td>56</td>\n",
       "      <td>99</td>\n",
       "      <td>03</td>\n",
       "      <td>3</td>\n",
       "      <td>3</td>\n",
       "      <td>18</td>\n",
       "      <td></td>\n",
       "      <td>J</td>\n",
       "      <td>178</td>\n",
       "      <td>J</td>\n",
       "      <td>Wyoming</td>\n",
       "      <td>Industries not classified</td>\n",
       "      <td>03:  5-9</td>\n",
       "    </tr>\n",
       "    <tr>\n",
       "      <td>727994</td>\n",
       "      <td>56</td>\n",
       "      <td>99</td>\n",
       "      <td>04</td>\n",
       "      <td>1</td>\n",
       "      <td>1</td>\n",
       "      <td>0</td>\n",
       "      <td>A</td>\n",
       "      <td>D</td>\n",
       "      <td>0</td>\n",
       "      <td>D</td>\n",
       "      <td>Wyoming</td>\n",
       "      <td>Industries not classified</td>\n",
       "      <td>04:  10-19</td>\n",
       "    </tr>\n",
       "    <tr>\n",
       "      <td>727995</td>\n",
       "      <td>56</td>\n",
       "      <td>99</td>\n",
       "      <td>05</td>\n",
       "      <td>66</td>\n",
       "      <td>66</td>\n",
       "      <td>111</td>\n",
       "      <td></td>\n",
       "      <td>H</td>\n",
       "      <td>1906</td>\n",
       "      <td>G</td>\n",
       "      <td>Wyoming</td>\n",
       "      <td>Industries not classified</td>\n",
       "      <td>05:  &lt;20</td>\n",
       "    </tr>\n",
       "    <tr>\n",
       "      <td>727996</td>\n",
       "      <td>56</td>\n",
       "      <td>99</td>\n",
       "      <td>06</td>\n",
       "      <td>2</td>\n",
       "      <td>2</td>\n",
       "      <td>0</td>\n",
       "      <td>B</td>\n",
       "      <td>D</td>\n",
       "      <td>0</td>\n",
       "      <td>D</td>\n",
       "      <td>Wyoming</td>\n",
       "      <td>Industries not classified</td>\n",
       "      <td>06:  20-99</td>\n",
       "    </tr>\n",
       "    <tr>\n",
       "      <td>727997</td>\n",
       "      <td>56</td>\n",
       "      <td>99</td>\n",
       "      <td>08</td>\n",
       "      <td>68</td>\n",
       "      <td>68</td>\n",
       "      <td>161</td>\n",
       "      <td></td>\n",
       "      <td>J</td>\n",
       "      <td>2012</td>\n",
       "      <td>G</td>\n",
       "      <td>Wyoming</td>\n",
       "      <td>Industries not classified</td>\n",
       "      <td>08:  &lt;500</td>\n",
       "    </tr>\n",
       "  </tbody>\n",
       "</table>\n",
       "<p>727998 rows × 13 columns</p>\n",
       "</div>"
      ],
      "text/plain": [
       "       state naics entrsize     firm     estb       empl empfl_r emplf_n  \\\n",
       "0         00    --       01  5954684  7757807  126752238               G   \n",
       "1         00    --       02  3665182  3671901    5923452               G   \n",
       "2         00    --       03  1013878  1025690    6681968               G   \n",
       "3         00    --       04   626900   657781    8432521               G   \n",
       "4         00    --       05  5305960  5355372   21037941               G   \n",
       "...      ...   ...      ...      ...      ...        ...     ...     ...   \n",
       "727993    56    99       03        3        3         18               J   \n",
       "727994    56    99       04        1        1          0       A       D   \n",
       "727995    56    99       05       66       66        111               H   \n",
       "727996    56    99       06        2        2          0       B       D   \n",
       "727997    56    99       08       68       68        161               J   \n",
       "\n",
       "              payr payrfl_n      statedscr                  naicsdscr  \\\n",
       "0       2140174759        G  United States                      Total   \n",
       "1        268039737        G  United States                      Total   \n",
       "2        248985263        G  United States                      Total   \n",
       "3        329388425        G  United States                      Total   \n",
       "4        846413425        G  United States                      Total   \n",
       "...            ...      ...            ...                        ...   \n",
       "727993         178        J        Wyoming  Industries not classified   \n",
       "727994           0        D        Wyoming  Industries not classified   \n",
       "727995        1906        G        Wyoming  Industries not classified   \n",
       "727996           0        D        Wyoming  Industries not classified   \n",
       "727997        2012        G        Wyoming  Industries not classified   \n",
       "\n",
       "       entrsizedscr  \n",
       "0        01:  Total  \n",
       "1          02:  0-4  \n",
       "2          03:  5-9  \n",
       "3        04:  10-19  \n",
       "4          05:  <20  \n",
       "...             ...  \n",
       "727993     03:  5-9  \n",
       "727994   04:  10-19  \n",
       "727995     05:  <20  \n",
       "727996   06:  20-99  \n",
       "727997    08:  <500  \n",
       "\n",
       "[727998 rows x 13 columns]"
      ]
     },
     "execution_count": 3,
     "metadata": {},
     "output_type": "execute_result"
    }
   ],
   "source": [
    "engine = create_engine('postgresql+psycopg2://aadadey:@localhost/susb')\n",
    "connection = engine.connect()\n",
    "query = \"select * from susb_2016\"\n",
    "df = pd.read_sql_query(query, connection)\n",
    "df"
   ]
  },
  {
   "cell_type": "code",
   "execution_count": 6,
   "metadata": {},
   "outputs": [
    {
     "data": {
      "text/plain": [
       "dtype('O')"
      ]
     },
     "execution_count": 6,
     "metadata": {},
     "output_type": "execute_result"
    }
   ],
   "source": [
    "df.naics.dtype"
   ]
  },
  {
   "cell_type": "code",
   "execution_count": null,
   "metadata": {},
   "outputs": [],
   "source": [
    "(df['estb'] > 5).all()"
   ]
  },
  {
   "cell_type": "code",
   "execution_count": null,
   "metadata": {},
   "outputs": [],
   "source": [
    "df['state'].dtype == 'object'"
   ]
  },
  {
   "cell_type": "code",
   "execution_count": null,
   "metadata": {},
   "outputs": [],
   "source": [
    "(dbdf['empl'] >= 0).all()\n",
    "dbdf['empl'].dtype == 'int64'"
   ]
  },
  {
   "cell_type": "code",
   "execution_count": null,
   "metadata": {},
   "outputs": [],
   "source": [
    "df = pd.read_csv('us_state_6digitnaics_2016.txt', encoding='ISO-8859-1')\n",
    "df"
   ]
  },
  {
   "cell_type": "code",
   "execution_count": null,
   "metadata": {},
   "outputs": [],
   "source": [
    "df['FIRM'].describe()"
   ]
  },
  {
   "cell_type": "code",
   "execution_count": null,
   "metadata": {},
   "outputs": [],
   "source": [
    "df['STATE'] == 10"
   ]
  },
  {
   "cell_type": "code",
   "execution_count": null,
   "metadata": {},
   "outputs": [],
   "source": [
    "sub_df = df[(df['STATE'] == 10) & (df['ENTRSIZE'].isin([2, 3, 4]))]\n",
    "sub_df['PAYR_N'].describe()"
   ]
  },
  {
   "cell_type": "code",
   "execution_count": null,
   "metadata": {},
   "outputs": [],
   "source": [
    "pd.DataFrame(data={'a': [1,2,3], 'b': [4,5,6]})"
   ]
  },
  {
   "cell_type": "code",
   "execution_count": null,
   "metadata": {},
   "outputs": [],
   "source": [
    "dbdf.shape[1]"
   ]
  }
 ],
 "metadata": {
  "kernelspec": {
   "display_name": "Python 3",
   "language": "python",
   "name": "python3"
  },
  "language_info": {
   "codemirror_mode": {
    "name": "ipython",
    "version": 3
   },
   "file_extension": ".py",
   "mimetype": "text/x-python",
   "name": "python",
   "nbconvert_exporter": "python",
   "pygments_lexer": "ipython3",
   "version": "3.7.4"
  }
 },
 "nbformat": 4,
 "nbformat_minor": 2
}
