{
 "cells": [
  {
   "cell_type": "code",
   "execution_count": 2,
   "metadata": {
    "pycharm": {
     "is_executing": false
    }
   },
   "outputs": [],
   "source": [
    "import pandas as pd\n",
    "from sqlalchemy import create_engine"
   ]
  },
  {
   "cell_type": "code",
   "execution_count": 3,
   "metadata": {
    "pycharm": {
     "is_executing": false
    }
   },
   "outputs": [
    {
     "name": "stdout",
     "text": [
      "('00', '--', '01', 5954684, 7757807, 126752238, '', 'G', 2140174759, 'G', 'United States', 'Total', '01:  Total')\n"
     ],
     "output_type": "stream"
    }
   ],
   "source": [
    "engine = create_engine('postgresql+psycopg2://aadadey:@localhost/susb')\n",
    "connection = engine.connect()\n",
    "query = \"select * from susb_2016\"\n",
    "result = connection.execute(query)\n",
    "for row in result:\n",
    "    print(row)\n",
    "    break"
   ]
  },
  {
   "cell_type": "code",
   "execution_count": 3,
   "metadata": {},
   "outputs": [
    {
     "data": {
      "text/html": [
       "<div>\n",
       "<style scoped>\n",
       "    .dataframe tbody tr th:only-of-type {\n",
       "        vertical-align: middle;\n",
       "    }\n",
       "\n",
       "    .dataframe tbody tr th {\n",
       "        vertical-align: top;\n",
       "    }\n",
       "\n",
       "    .dataframe thead th {\n",
       "        text-align: right;\n",
       "    }\n",
       "</style>\n",
       "<table border=\"1\" class=\"dataframe\">\n",
       "  <thead>\n",
       "    <tr style=\"text-align: right;\">\n",
       "      <th></th>\n",
       "      <th>state</th>\n",
       "      <th>naics</th>\n",
       "      <th>entrsize</th>\n",
       "      <th>firm</th>\n",
       "      <th>estb</th>\n",
       "      <th>empl</th>\n",
       "      <th>empfl_r</th>\n",
       "      <th>emplf_n</th>\n",
       "      <th>payr</th>\n",
       "      <th>payrfl_n</th>\n",
       "      <th>statedscr</th>\n",
       "      <th>naicsdscr</th>\n",
       "      <th>entrsizedscr</th>\n",
       "    </tr>\n",
       "  </thead>\n",
       "  <tbody>\n",
       "    <tr>\n",
       "      <td>0</td>\n",
       "      <td>10</td>\n",
       "      <td>453920</td>\n",
       "      <td>08</td>\n",
       "      <td>14</td>\n",
       "      <td>14</td>\n",
       "      <td>28</td>\n",
       "      <td></td>\n",
       "      <td>G</td>\n",
       "      <td>1706</td>\n",
       "      <td>H</td>\n",
       "      <td>Delaware</td>\n",
       "      <td>Art Dealers</td>\n",
       "      <td>08:  &lt;500</td>\n",
       "    </tr>\n",
       "    <tr>\n",
       "      <td>1</td>\n",
       "      <td>10</td>\n",
       "      <td>453920</td>\n",
       "      <td>05</td>\n",
       "      <td>14</td>\n",
       "      <td>14</td>\n",
       "      <td>28</td>\n",
       "      <td></td>\n",
       "      <td>G</td>\n",
       "      <td>1706</td>\n",
       "      <td>H</td>\n",
       "      <td>Delaware</td>\n",
       "      <td>Art Dealers</td>\n",
       "      <td>05:  &lt;20</td>\n",
       "    </tr>\n",
       "    <tr>\n",
       "      <td>2</td>\n",
       "      <td>10</td>\n",
       "      <td>453920</td>\n",
       "      <td>04</td>\n",
       "      <td>1</td>\n",
       "      <td>1</td>\n",
       "      <td>0</td>\n",
       "      <td>A</td>\n",
       "      <td>D</td>\n",
       "      <td>0</td>\n",
       "      <td>D</td>\n",
       "      <td>Delaware</td>\n",
       "      <td>Art Dealers</td>\n",
       "      <td>04:  10-19</td>\n",
       "    </tr>\n",
       "    <tr>\n",
       "      <td>3</td>\n",
       "      <td>10</td>\n",
       "      <td>71211</td>\n",
       "      <td>08</td>\n",
       "      <td>24</td>\n",
       "      <td>25</td>\n",
       "      <td>712</td>\n",
       "      <td></td>\n",
       "      <td>G</td>\n",
       "      <td>20158</td>\n",
       "      <td>G</td>\n",
       "      <td>Delaware</td>\n",
       "      <td>Museums</td>\n",
       "      <td>08:  &lt;500</td>\n",
       "    </tr>\n",
       "    <tr>\n",
       "      <td>4</td>\n",
       "      <td>10</td>\n",
       "      <td>6212</td>\n",
       "      <td>05</td>\n",
       "      <td>224</td>\n",
       "      <td>226</td>\n",
       "      <td>1835</td>\n",
       "      <td></td>\n",
       "      <td>G</td>\n",
       "      <td>120639</td>\n",
       "      <td>G</td>\n",
       "      <td>Delaware</td>\n",
       "      <td>Offices of Dentists</td>\n",
       "      <td>05:  &lt;20</td>\n",
       "    </tr>\n",
       "    <tr>\n",
       "      <td>...</td>\n",
       "      <td>...</td>\n",
       "      <td>...</td>\n",
       "      <td>...</td>\n",
       "      <td>...</td>\n",
       "      <td>...</td>\n",
       "      <td>...</td>\n",
       "      <td>...</td>\n",
       "      <td>...</td>\n",
       "      <td>...</td>\n",
       "      <td>...</td>\n",
       "      <td>...</td>\n",
       "      <td>...</td>\n",
       "      <td>...</td>\n",
       "    </tr>\n",
       "    <tr>\n",
       "      <td>11117</td>\n",
       "      <td>10</td>\n",
       "      <td>1141</td>\n",
       "      <td>01</td>\n",
       "      <td>7</td>\n",
       "      <td>7</td>\n",
       "      <td>8</td>\n",
       "      <td></td>\n",
       "      <td>J</td>\n",
       "      <td>163</td>\n",
       "      <td>J</td>\n",
       "      <td>Delaware</td>\n",
       "      <td>Fishing</td>\n",
       "      <td>01:  Total</td>\n",
       "    </tr>\n",
       "    <tr>\n",
       "      <td>11118</td>\n",
       "      <td>10</td>\n",
       "      <td>1141</td>\n",
       "      <td>02</td>\n",
       "      <td>7</td>\n",
       "      <td>7</td>\n",
       "      <td>8</td>\n",
       "      <td></td>\n",
       "      <td>J</td>\n",
       "      <td>163</td>\n",
       "      <td>J</td>\n",
       "      <td>Delaware</td>\n",
       "      <td>Fishing</td>\n",
       "      <td>02:  0-4</td>\n",
       "    </tr>\n",
       "    <tr>\n",
       "      <td>11119</td>\n",
       "      <td>10</td>\n",
       "      <td>1141</td>\n",
       "      <td>05</td>\n",
       "      <td>7</td>\n",
       "      <td>7</td>\n",
       "      <td>8</td>\n",
       "      <td></td>\n",
       "      <td>J</td>\n",
       "      <td>163</td>\n",
       "      <td>J</td>\n",
       "      <td>Delaware</td>\n",
       "      <td>Fishing</td>\n",
       "      <td>05:  &lt;20</td>\n",
       "    </tr>\n",
       "    <tr>\n",
       "      <td>11120</td>\n",
       "      <td>10</td>\n",
       "      <td>1141</td>\n",
       "      <td>08</td>\n",
       "      <td>7</td>\n",
       "      <td>7</td>\n",
       "      <td>8</td>\n",
       "      <td></td>\n",
       "      <td>J</td>\n",
       "      <td>163</td>\n",
       "      <td>J</td>\n",
       "      <td>Delaware</td>\n",
       "      <td>Fishing</td>\n",
       "      <td>08:  &lt;500</td>\n",
       "    </tr>\n",
       "    <tr>\n",
       "      <td>11121</td>\n",
       "      <td>10</td>\n",
       "      <td>11411</td>\n",
       "      <td>01</td>\n",
       "      <td>7</td>\n",
       "      <td>7</td>\n",
       "      <td>8</td>\n",
       "      <td></td>\n",
       "      <td>J</td>\n",
       "      <td>163</td>\n",
       "      <td>J</td>\n",
       "      <td>Delaware</td>\n",
       "      <td>Fishing</td>\n",
       "      <td>01:  Total</td>\n",
       "    </tr>\n",
       "  </tbody>\n",
       "</table>\n",
       "<p>11122 rows × 13 columns</p>\n",
       "</div>"
      ],
      "text/plain": [
       "      state   naics entrsize  firm  estb  empl empfl_r emplf_n    payr  \\\n",
       "0        10  453920       08    14    14    28               G    1706   \n",
       "1        10  453920       05    14    14    28               G    1706   \n",
       "2        10  453920       04     1     1     0       A       D       0   \n",
       "3        10   71211       08    24    25   712               G   20158   \n",
       "4        10    6212       05   224   226  1835               G  120639   \n",
       "...     ...     ...      ...   ...   ...   ...     ...     ...     ...   \n",
       "11117    10    1141       01     7     7     8               J     163   \n",
       "11118    10    1141       02     7     7     8               J     163   \n",
       "11119    10    1141       05     7     7     8               J     163   \n",
       "11120    10    1141       08     7     7     8               J     163   \n",
       "11121    10   11411       01     7     7     8               J     163   \n",
       "\n",
       "      payrfl_n statedscr            naicsdscr entrsizedscr  \n",
       "0            H  Delaware          Art Dealers    08:  <500  \n",
       "1            H  Delaware          Art Dealers     05:  <20  \n",
       "2            D  Delaware          Art Dealers   04:  10-19  \n",
       "3            G  Delaware              Museums    08:  <500  \n",
       "4            G  Delaware  Offices of Dentists     05:  <20  \n",
       "...        ...       ...                  ...          ...  \n",
       "11117        J  Delaware              Fishing   01:  Total  \n",
       "11118        J  Delaware              Fishing     02:  0-4  \n",
       "11119        J  Delaware              Fishing     05:  <20  \n",
       "11120        J  Delaware              Fishing    08:  <500  \n",
       "11121        J  Delaware              Fishing   01:  Total  \n",
       "\n",
       "[11122 rows x 13 columns]"
      ]
     },
     "execution_count": 3,
     "metadata": {},
     "output_type": "execute_result"
    }
   ],
   "source": [
    "query = \"select * from susb_2016 where state = '10'\"\n",
    "dbdf = pd.read_sql_query(query, connection)\n",
    "dbdf"
   ]
  },
  {
   "cell_type": "code",
   "execution_count": 29,
   "metadata": {},
   "outputs": [
    {
     "data": {
      "text/plain": [
       "True"
      ]
     },
     "execution_count": 29,
     "metadata": {},
     "output_type": "execute_result"
    }
   ],
   "source": [
    "(dbdf['empl'] >= 0).all()\n",
    "dbdf['empl'].dtype == 'int64'"
   ]
  },
  {
   "cell_type": "code",
   "execution_count": null,
   "metadata": {},
   "outputs": [],
   "source": [
    "df = pd.read_csv('us_state_6digitnaics_2016.txt', encoding='ISO-8859-1')\n",
    "df"
   ]
  },
  {
   "cell_type": "code",
   "execution_count": null,
   "metadata": {},
   "outputs": [],
   "source": [
    "df['FIRM'].describe()"
   ]
  },
  {
   "cell_type": "code",
   "execution_count": null,
   "metadata": {},
   "outputs": [],
   "source": [
    "df['STATE'] == 10"
   ]
  },
  {
   "cell_type": "code",
   "execution_count": null,
   "metadata": {},
   "outputs": [],
   "source": [
    "sub_df = df[(df['STATE'] == 10) & (df['ENTRSIZE'].isin([2, 3, 4]))]\n",
    "sub_df['PAYR_N'].describe()"
   ]
  },
  {
   "cell_type": "code",
   "execution_count": 30,
   "metadata": {},
   "outputs": [
    {
     "data": {
      "text/html": [
       "<div>\n",
       "<style scoped>\n",
       "    .dataframe tbody tr th:only-of-type {\n",
       "        vertical-align: middle;\n",
       "    }\n",
       "\n",
       "    .dataframe tbody tr th {\n",
       "        vertical-align: top;\n",
       "    }\n",
       "\n",
       "    .dataframe thead th {\n",
       "        text-align: right;\n",
       "    }\n",
       "</style>\n",
       "<table border=\"1\" class=\"dataframe\">\n",
       "  <thead>\n",
       "    <tr style=\"text-align: right;\">\n",
       "      <th></th>\n",
       "      <th>a</th>\n",
       "      <th>b</th>\n",
       "    </tr>\n",
       "  </thead>\n",
       "  <tbody>\n",
       "    <tr>\n",
       "      <td>0</td>\n",
       "      <td>1</td>\n",
       "      <td>4</td>\n",
       "    </tr>\n",
       "    <tr>\n",
       "      <td>1</td>\n",
       "      <td>2</td>\n",
       "      <td>5</td>\n",
       "    </tr>\n",
       "    <tr>\n",
       "      <td>2</td>\n",
       "      <td>3</td>\n",
       "      <td>6</td>\n",
       "    </tr>\n",
       "  </tbody>\n",
       "</table>\n",
       "</div>"
      ],
      "text/plain": [
       "   a  b\n",
       "0  1  4\n",
       "1  2  5\n",
       "2  3  6"
      ]
     },
     "execution_count": 30,
     "metadata": {},
     "output_type": "execute_result"
    }
   ],
   "source": [
    "pd.DataFrame(data={'a': [1,2,3], 'b': [4,5,6]})"
   ]
  },
  {
   "cell_type": "code",
   "execution_count": 33,
   "metadata": {},
   "outputs": [
    {
     "data": {
      "text/plain": [
       "13"
      ]
     },
     "execution_count": 33,
     "metadata": {},
     "output_type": "execute_result"
    }
   ],
   "source": [
    "dbdf.shape[1]"
   ]
  }
 ],
 "metadata": {
  "kernelspec": {
   "display_name": "Python 3",
   "language": "python",
   "name": "python3"
  },
  "language_info": {
   "codemirror_mode": {
    "name": "ipython",
    "version": 3
   },
   "file_extension": ".py",
   "mimetype": "text/x-python",
   "name": "python",
   "nbconvert_exporter": "python",
   "pygments_lexer": "ipython3",
   "version": "3.7.4"
  }
 },
 "nbformat": 4,
 "nbformat_minor": 2
}